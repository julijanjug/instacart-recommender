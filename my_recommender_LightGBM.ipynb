{
 "cells": [
  {
   "cell_type": "code",
   "execution_count": 1,
   "metadata": {},
   "outputs": [
    {
     "name": "stderr",
     "output_type": "stream",
     "text": [
      "/Library/Frameworks/Python.framework/Versions/3.7/lib/python3.7/site-packages/lightgbm/__init__.py:46: UserWarning: Starting from version 2.2.1, the library file in distribution wheels for macOS is built by the Apple Clang (Xcode_8.3.3) compiler.\n",
      "This means that in case of installing LightGBM from PyPI via the ``pip install lightgbm`` command, you don't need to install the gcc compiler anymore.\n",
      "Instead of that, you need to install the OpenMP library, which is required for running LightGBM on the system with the Apple Clang compiler.\n",
      "You can install the OpenMP library by the following command: ``brew install libomp``.\n",
      "  \"You can install the OpenMP library by the following command: ``brew install libomp``.\", UserWarning)\n"
     ]
    }
   ],
   "source": [
    "#importi\n",
    "import numpy as np\n",
    "import pandas as pd\n",
    "import lightgbm as lgb\n",
    "import matplotlib.pyplot as plt"
   ]
  },
  {
   "cell_type": "code",
   "execution_count": 2,
   "metadata": {},
   "outputs": [
    {
     "name": "stdout",
     "output_type": "stream",
     "text": [
      "loading orders...\n",
      "loading products...\n",
      "loading prior...\n",
      "loading train...\n",
      "done\n"
     ]
    }
   ],
   "source": [
    "print(\"loading orders...\")\n",
    "orders = pd.read_csv(\"data/orders.csv\", dtype={\n",
    "        'order_id': np.int32,\n",
    "        'user_id': np.int32,\n",
    "        'eval_set': 'category',\n",
    "        'order_number': np.int16,\n",
    "        'order_dow': np.int8,\n",
    "        'order_hour_of_day': np.int8,\n",
    "        'days_since_prior_order': np.float32})\n",
    "\n",
    "print(\"loading products...\")\n",
    "products = pd.read_csv(\"data/products.csv\", dtype={\n",
    "        'product_id': np.uint16,\n",
    "        'order_id': np.int32,\n",
    "        'aisle_id': np.uint8,\n",
    "        'department_id': np.uint8},\n",
    "        usecols=['product_id', 'aisle_id', 'department_id'])\n",
    "\n",
    "print(\"loading prior...\")\n",
    "prior = pd.read_csv(\"data/order_products__prior.csv\", dtype={\n",
    "            'order_id': np.int32,\n",
    "            'product_id': np.uint16,\n",
    "            'add_to_cart_order': np.int16,\n",
    "            'reordered': np.int8})\n",
    "\n",
    "print(\"loading train...\")\n",
    "train = pd.read_csv(\"data/order_products__train.csv\", dtype={\n",
    "            'order_id': np.int32,\n",
    "            'product_id': np.uint16,\n",
    "            'add_to_cart_order': np.int16,\n",
    "            'reordered': np.int8})\n",
    "print(\"done\")"
   ]
  },
  {
   "cell_type": "code",
   "execution_count": 3,
   "metadata": {},
   "outputs": [
    {
     "name": "stdout",
     "output_type": "stream",
     "text": [
      "calculating product features...\n",
      "done\n"
     ]
    }
   ],
   "source": [
    "### product features ###\n",
    "print(\"calculating product features...\")\n",
    "prodf = pd.DataFrame()\n",
    "prodf['orders'] = prior.groupby(prior.product_id).size().astype(np.int32) #number of orders\n",
    "prodf['reorders'] = prior['reordered'].groupby(prior.product_id).sum().astype(np.float32) #number of reorders\n",
    "prodf['reorder_rate'] = (prodf.reorders / prodf.orders).astype(np.float32) # ratio of reorders\n",
    "products = products.join(prodf, on='product_id')\n",
    "products.set_index('product_id', drop=False, inplace=True)\n",
    "del prodf\n",
    "\n",
    "print(\"done\")"
   ]
  },
  {
   "cell_type": "code",
   "execution_count": 4,
   "metadata": {},
   "outputs": [
    {
     "name": "stdout",
     "output_type": "stream",
     "text": [
      "add order info to prior - merge\n",
      "done\n"
     ]
    }
   ],
   "source": [
    "print('add order info to prior - merge')\n",
    "orders.set_index('order_id', inplace=True, drop=False)\n",
    "prior = prior.join(orders, on='order_id', rsuffix='_')\n",
    "prior.drop('order_id_', inplace=True, axis=1)\n",
    "print(\"done\")"
   ]
  },
  {
   "cell_type": "code",
   "execution_count": 5,
   "metadata": {},
   "outputs": [
    {
     "name": "stdout",
     "output_type": "stream",
     "text": [
      "calculating user features...\n",
      "user f (206209, 6)\n",
      "done\n"
     ]
    }
   ],
   "source": [
    "### user features ###\n",
    "print(\"calculating user features...\")\n",
    "usr = pd.DataFrame()\n",
    "usr['average_days_between_orders'] = orders.groupby('user_id')['days_since_prior_order'].mean().astype(np.float32) #avg days between orders\n",
    "usr['nb_orders'] = orders.groupby('user_id').size().astype(np.int16) #number of orders\n",
    "\n",
    "users = pd.DataFrame()\n",
    "users['total_items'] = prior.groupby('user_id').size().astype(np.int16) #number of items bought\n",
    "users['all_products'] = prior.groupby('user_id')['product_id'].apply(set) #set of products(id) bought !!!\n",
    "users['total_distinct_items'] = (users.all_products.map(len)).astype(np.int16) #number of distinct items bought\n",
    "\n",
    "users = users.join(usr)\n",
    "del usr\n",
    "users['average_basket'] = (users.total_items / users.nb_orders).astype(np.float32) #avg number of items in order\n",
    "print('user f', users.shape)\n",
    "print(\"done\")"
   ]
  },
  {
   "cell_type": "code",
   "execution_count": 6,
   "metadata": {},
   "outputs": [
    {
     "name": "stdout",
     "output_type": "stream",
     "text": [
      "calculating userXproduct features... slow...\n",
      "to dataframe (less memory)\n",
      "user X product f 13293564\n",
      "done\n"
     ]
    }
   ],
   "source": [
    "### userXproduct features ###\n",
    "\n",
    "print('calculating userXproduct features... slow...')\n",
    "prior['user_product'] = prior.product_id + prior.user_id * 100000 ##user_product id  ???\n",
    "prior['user_max_order_num'] = prior.groupby('user_id')['order_number'].transform('max')\n",
    "\n",
    "# This was to slow !!\n",
    "#def last_order(order_group):\n",
    "#    ix = order_group.order_number.idxmax\n",
    "#    return order_group.shape[0], order_group.order_id[ix],  order_group.add_to_cart_order.mean()\n",
    "#userXproduct = pd.DataFrame()\n",
    "#userXproduct['tmp'] = df.groupby('user_product').apply(last_order)\n",
    "\n",
    "#slow code\n",
    "d= dict()\n",
    "for row in prior.itertuples():\n",
    "    z = row.user_product\n",
    "    if z not in d:\n",
    "        d[z] = (1,\n",
    "                (row.order_number, row.order_id),\n",
    "                row.add_to_cart_order, 1 if row.order_number > row.user_max_order_num-5 else 0)\n",
    "    else:\n",
    "        d[z] = (d[z][0] + 1,\n",
    "                max(d[z][1], (row.order_number, row.order_id)),\n",
    "                d[z][2] + row.add_to_cart_order, d[z][3]+1 if row.order_number > row.user_max_order_num-5 else d[z][3])\n",
    "\n",
    "print('to dataframe (less memory)')\n",
    "userXproduct = pd.DataFrame.from_dict(d, orient='index')\n",
    "del d\n",
    "userXproduct.columns = ['nb_orders', 'last_order_id', 'sum_pos_in_cart', 'total_buys_n5']\n",
    "userXproduct.nb_orders = userXproduct.nb_orders.astype(np.int16)\n",
    "userXproduct.last_order_id = userXproduct.last_order_id.map(lambda x: x[1]).astype(np.int32)\n",
    "userXproduct.sum_pos_in_cart = userXproduct.sum_pos_in_cart.astype(np.int16)\n",
    "userXproduct.total_buys_n5 = userXproduct.total_buys_n5.astype(np.int16)\n",
    "print('user X product f', len(userXproduct))\n",
    "\n",
    "#alegedly imporved code\n",
    "# userXproduct = prior.copy()\n",
    "# userXproduct['user_product'] = userXproduct.product_id + userXproduct.user_id * 100000\n",
    "# userXproduct = userXproduct.sort_values('order_number')\n",
    "# userXproduct = userXproduct \\\n",
    "#     .groupby('user_product', sort=False) \\\n",
    "#     .agg({'order_id': ['size', 'last'], 'add_to_cart_order': 'sum'})\n",
    "# userXproduct.columns = ['nb_orders', 'last_order_id', 'sum_pos_in_cart']\n",
    "# userXproduct.astype(\n",
    "#     {'nb_orders': np.int16, 'last_order_id': np.int32, 'sum_pos_in_cart': np.int16}, \n",
    "#     inplace=True)\n",
    "\n",
    "del prior\n",
    "print(\"done\")"
   ]
  },
  {
   "cell_type": "code",
   "execution_count": 7,
   "metadata": {},
   "outputs": [
    {
     "data": {
      "text/html": [
       "<div>\n",
       "<style scoped>\n",
       "    .dataframe tbody tr th:only-of-type {\n",
       "        vertical-align: middle;\n",
       "    }\n",
       "\n",
       "    .dataframe tbody tr th {\n",
       "        vertical-align: top;\n",
       "    }\n",
       "\n",
       "    .dataframe thead th {\n",
       "        text-align: right;\n",
       "    }\n",
       "</style>\n",
       "<table border=\"1\" class=\"dataframe\">\n",
       "  <thead>\n",
       "    <tr style=\"text-align: right;\">\n",
       "      <th></th>\n",
       "      <th>nb_orders</th>\n",
       "      <th>last_order_id</th>\n",
       "      <th>sum_pos_in_cart</th>\n",
       "      <th>total_buys_n5</th>\n",
       "    </tr>\n",
       "  </thead>\n",
       "  <tbody>\n",
       "    <tr>\n",
       "      <th>-1246903360</th>\n",
       "      <td>5</td>\n",
       "      <td>104690</td>\n",
       "      <td>10</td>\n",
       "      <td>3</td>\n",
       "    </tr>\n",
       "    <tr>\n",
       "      <th>-1246907495</th>\n",
       "      <td>5</td>\n",
       "      <td>132412</td>\n",
       "      <td>16</td>\n",
       "      <td>2</td>\n",
       "    </tr>\n",
       "    <tr>\n",
       "      <th>-1246927153</th>\n",
       "      <td>1</td>\n",
       "      <td>2</td>\n",
       "      <td>3</td>\n",
       "      <td>0</td>\n",
       "    </tr>\n",
       "    <tr>\n",
       "      <th>-1246890562</th>\n",
       "      <td>5</td>\n",
       "      <td>2382766</td>\n",
       "      <td>24</td>\n",
       "      <td>3</td>\n",
       "    </tr>\n",
       "    <tr>\n",
       "      <th>-1246906445</th>\n",
       "      <td>3</td>\n",
       "      <td>2382766</td>\n",
       "      <td>14</td>\n",
       "      <td>2</td>\n",
       "    </tr>\n",
       "  </tbody>\n",
       "</table>\n",
       "</div>"
      ],
      "text/plain": [
       "             nb_orders  last_order_id  sum_pos_in_cart  total_buys_n5\n",
       "-1246903360          5         104690               10              3\n",
       "-1246907495          5         132412               16              2\n",
       "-1246927153          1              2                3              0\n",
       "-1246890562          5        2382766               24              3\n",
       "-1246906445          3        2382766               14              2"
      ]
     },
     "execution_count": 7,
     "metadata": {},
     "output_type": "execute_result"
    }
   ],
   "source": [
    "userXproduct.head()"
   ]
  },
  {
   "cell_type": "code",
   "execution_count": 8,
   "metadata": {
    "scrolled": true
   },
   "outputs": [
    {
     "name": "stdout",
     "output_type": "stream",
     "text": [
      "split orders : train, test\n",
      "add product info to test_for_f1 - merge\n",
      "done\n"
     ]
    }
   ],
   "source": [
    "### train / test orders ###\n",
    "print('split orders : train, test')\n",
    "test_orders_v1 = orders[orders.eval_set == 'test'] #te uporabi če želiš napoved za v kaggle !!!!\n",
    "train_orders_v1 = orders[orders.eval_set == 'train']\n",
    "\n",
    "#moj dodatek za razdelitev train na se ene mnozice\n",
    "user_list = train_orders_v1['user_id'].unique() # razdelitev 80% : 20%\n",
    "msk = np.random.rand(len(user_list)) < 0.9\n",
    "users_train = user_list[msk]\n",
    "users_test = user_list[~msk]\n",
    "\n",
    "test_orders = train_orders_v1.loc[train_orders_v1['user_id'].isin(users_test)] #filtrira na test\n",
    "train_orders = train_orders_v1.loc[train_orders_v1['user_id'].isin(users_train)] #filtrira na train\n",
    "\n",
    "#label za f1 score\n",
    "test_for_f1 = test_orders\n",
    "print('add product info to test_for_f1 - merge')\n",
    "train.set_index('order_id', inplace=True, drop=False)\n",
    "train.index.names = ['order_id_index']\n",
    "test_for_f1.index.names = ['order_id_index']\n",
    "test_for_f1 = test_for_f1.join(train, on='order_id', rsuffix='_')\n",
    "test_for_f1.drop('order_id_', inplace=True, axis=1)\n",
    "test_for_f1 = test_for_f1.groupby('order_id').agg({'product_id':lambda x: list(x)})\n",
    "\n",
    "train.set_index(['order_id', 'product_id'], inplace=True, drop=False)\n",
    "print(\"done\")"
   ]
  },
  {
   "cell_type": "code",
   "execution_count": 9,
   "metadata": {},
   "outputs": [
    {
     "name": "stdout",
     "output_type": "stream",
     "text": [
      "build candidate list\n",
      "order row 10000\n",
      "order row 20000\n",
      "order row 30000\n",
      "order row 40000\n",
      "order row 50000\n",
      "order row 60000\n",
      "order row 70000\n",
      "order row 80000\n",
      "order row 90000\n",
      "order row 100000\n",
      "order row 110000\n",
      "user related features\n",
      "order related features\n",
      "product related features\n",
      "user_X_product related features\n",
      "formating for lgb\n",
      "light GBM train :-)\n"
     ]
    },
    {
     "name": "stderr",
     "output_type": "stream",
     "text": [
      "/Library/Frameworks/Python.framework/Versions/3.7/lib/python3.7/site-packages/lightgbm/basic.py:1205: UserWarning: Using categorical_feature in Dataset.\n",
      "  warnings.warn('Using categorical_feature in Dataset.')\n"
     ]
    },
    {
     "name": "stdout",
     "output_type": "stream",
     "text": [
      "done\n"
     ]
    },
    {
     "data": {
      "image/png": "[encoded data removed]",
      "text/plain": [
       "<Figure size 648x1440 with 1 Axes>"
      ]
     },
     "metadata": {
      "needs_background": "light"
     },
     "output_type": "display_data"
    }
   ],
   "source": [
    "### build list of candidate products to reorder, with features ###\n",
    "\n",
    "def features(selected_orders, labels_given=False):\n",
    "    print('build candidate list')\n",
    "    order_list = []\n",
    "    product_list = []\n",
    "    labels = []\n",
    "    train_index = set(train.index)\n",
    "    \n",
    "    i = 0 \n",
    "    for row in selected_orders.itertuples():\n",
    "        i+=1\n",
    "        if i%10000 == 0: print('order row',i)\n",
    "        user_id = row.user_id\n",
    "        order_id = row.order_id\n",
    "        user_prods = users['all_products'][user_id]\n",
    "        product_list += user_prods\n",
    "        order_list += [order_id] * len(user_prods)\n",
    "        if labels_given:\n",
    "            labels += [(order_id, prod) in train_index for prod in user_prods]\n",
    "        \n",
    "    df = pd.DataFrame({'order_id':order_list, 'product_id':product_list}, dtype=np.int32)\n",
    "    labels = np.array(labels, dtype=np.int8)\n",
    "    del order_list\n",
    "    del product_list\n",
    "    \n",
    "    print('user related features')\n",
    "    df['user_id'] = df.order_id.map(orders.user_id)\n",
    "    df['user_total_orders'] = df.user_id.map(users.nb_orders)\n",
    "    df['user_total_items'] = df.user_id.map(users.total_items)\n",
    "    df['total_distinct_items'] = df.user_id.map(users.total_distinct_items)\n",
    "    df['user_average_days_between_orders'] = df.user_id.map(users.average_days_between_orders)\n",
    "    df['user_average_basket'] =  df.user_id.map(users.average_basket)\n",
    "    \n",
    "    print('order related features')\n",
    "    # df['dow'] = df.order_id.map(orders.order_dow)\n",
    "    df['order_hour_of_day'] = df.order_id.map(orders.order_hour_of_day)\n",
    "    df['days_since_prior_order'] = df.order_id.map(orders.days_since_prior_order)\n",
    "    df['days_since_ratio'] = df.days_since_prior_order / df.user_average_days_between_orders\n",
    "    \n",
    "    print('product related features')\n",
    "    df['aisle_id'] = df.product_id.map(products.aisle_id)\n",
    "    df['department_id'] = df.product_id.map(products.department_id)\n",
    "    df['product_orders'] = df.product_id.map(products.orders).astype(np.int32)\n",
    "    df['product_reorders'] = df.product_id.map(products.reorders)\n",
    "    df['product_reorder_rate'] = df.product_id.map(products.reorder_rate)\n",
    "\n",
    "    print('user_X_product related features')\n",
    "    df['z'] = df.user_id * 100000 + df.product_id\n",
    "    df.drop(['user_id'], axis=1, inplace=True)\n",
    "    df['UP_orders'] = df.z.map(userXproduct.nb_orders)\n",
    "    df['UP_orders_ratio'] = (df.UP_orders / df.user_total_orders).astype(np.float32)\n",
    "    df['UP_last_order_id'] = df.z.map(userXproduct.last_order_id)\n",
    "    df['UP_average_pos_in_cart'] = (df.z.map(userXproduct.sum_pos_in_cart) / df.UP_orders).astype(np.float32)\n",
    "    df['UP_reorder_rate'] = (df.UP_orders / df.user_total_orders).astype(np.float32)\n",
    "    df['UP_orders_since_last'] = df.user_total_orders - df.UP_last_order_id.map(orders.order_number)\n",
    "    df['UP_delta_hour_vs_last'] = abs(df.order_hour_of_day - df.UP_last_order_id.map(orders.order_hour_of_day)).map(lambda x: min(x, 24-x)).astype(np.int8)\n",
    "    df['UP_total_buys_n5'] = df.z.map(userXproduct.total_buys_n5)\n",
    "    #df['UP_same_dow_as_last_order'] = df.UP_last_order_id.map(orders.order_dow) == \\\n",
    "    #                                              df.order_id.map(orders.order_dow)\n",
    "\n",
    "    df.drop(['UP_last_order_id', 'z'], axis=1, inplace=True)\n",
    "    #print(df.dtypes)\n",
    "    #print(df.memory_usage())\n",
    "    return (df, labels)\n",
    "    \n",
    "\n",
    "df_train, labels = features(train_orders, labels_given=True)\n",
    "\n",
    "f_to_use = ['user_total_orders', 'user_total_items', 'total_distinct_items',\n",
    "       'user_average_days_between_orders', 'user_average_basket',\n",
    "       'order_hour_of_day', 'days_since_prior_order', 'days_since_ratio',\n",
    "       'aisle_id', 'department_id', 'product_orders', 'product_reorders',\n",
    "       'product_reorder_rate', 'UP_orders', 'UP_orders_ratio',\n",
    "       'UP_average_pos_in_cart', 'UP_reorder_rate', 'UP_orders_since_last',\n",
    "       'UP_delta_hour_vs_last', 'UP_total_buys_n5'] # 'dow', 'UP_same_dow_as_last_order'\n",
    "\n",
    "\n",
    "print('formating for lgb')\n",
    "d_train = lgb.Dataset(df_train[f_to_use],\n",
    "                      label=labels,\n",
    "                      categorical_feature=['aisle_id', 'department_id'])  # , 'order_hour_of_day', 'dow'\n",
    "#del df_train\n",
    "\n",
    "params = {\n",
    "    'task': 'train',\n",
    "    'boosting_type': 'gbdt', \n",
    "    'objective': 'binary',\n",
    "    'metric': {'binary_logloss'},\n",
    "    'num_leaves': 64,\n",
    "    'max_depth': 10,\n",
    "    'feature_fraction': 0.8,\n",
    "    'bagging_fraction': 0.9,\n",
    "    'bagging_freq': 5,\n",
    "}\n",
    "ROUNDS = 100\n",
    "\n",
    "print('light GBM train :-)')\n",
    "bst = lgb.train(params, d_train, ROUNDS)\n",
    "lgb.plot_importance(bst, figsize=(9,20)) #importance plot\n",
    "del d_train\n",
    "print(\"done\")"
   ]
  },
  {
   "cell_type": "code",
   "execution_count": 10,
   "metadata": {},
   "outputs": [
    {
     "name": "stdout",
     "output_type": "stream",
     "text": [
      "build candidate list\n",
      "order row 10000\n",
      "user related features\n",
      "order related features\n",
      "product related features\n",
      "user_X_product related features\n",
      "light GBM predict\n",
      "done\n"
     ]
    }
   ],
   "source": [
    "### build candidates list for test ###\n",
    "\n",
    "df_test, _ = features(test_orders)\n",
    "\n",
    "print('light GBM predict')\n",
    "preds = bst.predict(df_test[f_to_use])\n",
    "\n",
    "df_test['pred'] = preds\n",
    "\n",
    "TRESHOLD = 0.14  # guess, should be tuned with crossval on a subset of train data\n",
    "\n",
    "d = dict()\n",
    "for row in df_test.itertuples():\n",
    "    if row.pred > TRESHOLD:\n",
    "        try:\n",
    "            d[row.order_id] += ' ' + str(row.product_id)\n",
    "        except:\n",
    "            d[row.order_id] = str(row.product_id)\n",
    "\n",
    "for order in test_orders.order_id:\n",
    "    if order not in d:\n",
    "        d[order] = 'None'\n",
    "\n",
    "sub = pd.DataFrame.from_dict(d, orient='index')\n",
    "\n",
    "sub.reset_index(inplace=True)\n",
    "sub.columns = ['order_id', 'products']\n",
    "sub.to_csv('my_sub_for_test.csv', index=False)\n",
    "print(\"done\")"
   ]
  },
  {
   "cell_type": "code",
   "execution_count": 11,
   "metadata": {},
   "outputs": [
    {
     "data": {
      "text/plain": [
       "852974"
      ]
     },
     "execution_count": 11,
     "metadata": {},
     "output_type": "execute_result"
    }
   ],
   "source": [
    "len(df_test)"
   ]
  },
  {
   "cell_type": "code",
   "execution_count": 12,
   "metadata": {},
   "outputs": [],
   "source": [
    "# ### TESTING v1 ####\n",
    "\n",
    "# def eval_fun(labels, preds):\n",
    "#     labels = labels.split(' ')\n",
    "#     preds = preds.split(' ')\n",
    "#     rr = (np.intersect1d(labels, preds))\n",
    "#     precision = np.float(len(rr)) / len(preds)\n",
    "#     recall = np.float(len(rr)) / len(labels)\n",
    "#     try:\n",
    "#         f1 = 2 * precision * recall / (precision + recall)\n",
    "#         #print(\"p={0:.2f} r={0:.2f} f={0:.2f}\".format(precision, recall, f1))\n",
    "#     except ZeroDivisionError:\n",
    "#         return (precision, recall, 0.0)\n",
    "#     return (precision, recall, f1)\n",
    "\n",
    "\n",
    "# ###########\n",
    "# cv_labels_df = pd.read_csv('data/sample_submission.csv')\n",
    "# cv_labels_df['products'] = cv_labels_df['products'].astype(str)\n",
    "# cv_preds_df = pd.read_csv('my_sub.csv')\n",
    "# cv_preds_df['products'] = cv_preds_df['products'].astype(str)\n",
    "# cv_labels_df = pd.merge(cv_labels_df, cv_preds_df, how='left', on='order_id')\n",
    "# cv_labels_df.head()"
   ]
  },
  {
   "cell_type": "code",
   "execution_count": 13,
   "metadata": {},
   "outputs": [
    {
     "data": {
      "text/html": [
       "<div>\n",
       "<style scoped>\n",
       "    .dataframe tbody tr th:only-of-type {\n",
       "        vertical-align: middle;\n",
       "    }\n",
       "\n",
       "    .dataframe tbody tr th {\n",
       "        vertical-align: top;\n",
       "    }\n",
       "\n",
       "    .dataframe thead th {\n",
       "        text-align: right;\n",
       "    }\n",
       "</style>\n",
       "<table border=\"1\" class=\"dataframe\">\n",
       "  <thead>\n",
       "    <tr style=\"text-align: right;\">\n",
       "      <th></th>\n",
       "      <th>order_id</th>\n",
       "      <th>product_id</th>\n",
       "      <th>products</th>\n",
       "    </tr>\n",
       "  </thead>\n",
       "  <tbody>\n",
       "    <tr>\n",
       "      <th>0</th>\n",
       "      <td>96</td>\n",
       "      <td>[20574, 30391, 40706, 25610, 27966, 24489, 39275]</td>\n",
       "      <td>47766 29603 24489 27966 32578 39877 20574 39275</td>\n",
       "    </tr>\n",
       "    <tr>\n",
       "      <th>1</th>\n",
       "      <td>218</td>\n",
       "      <td>[1194, 5578, 38159, 10305, 38557]</td>\n",
       "      <td>21137 15763 32033 1194 19505 5578 31717</td>\n",
       "    </tr>\n",
       "    <tr>\n",
       "      <th>2</th>\n",
       "      <td>1032</td>\n",
       "      <td>[11063, 26165, 27966, 8859, 44116, 5450, 9741,...</td>\n",
       "      <td>11777 47626 28204 26165 28745 44116 35939 1394...</td>\n",
       "    </tr>\n",
       "    <tr>\n",
       "      <th>3</th>\n",
       "      <td>1143</td>\n",
       "      <td>[42719, 42097, 36759, 27966, 39275, 47209, 346...</td>\n",
       "      <td>17794 24838 16521 21903 24852 26800 48559 1989...</td>\n",
       "    </tr>\n",
       "    <tr>\n",
       "      <th>4</th>\n",
       "      <td>1145</td>\n",
       "      <td>[24852, 1465, 28083, 29657, 34986, 33651, 3395...</td>\n",
       "      <td>516 36393 4697 9314 37500 12945 5782 21158 479...</td>\n",
       "    </tr>\n",
       "  </tbody>\n",
       "</table>\n",
       "</div>"
      ],
      "text/plain": [
       "   order_id                                         product_id  \\\n",
       "0        96  [20574, 30391, 40706, 25610, 27966, 24489, 39275]   \n",
       "1       218                  [1194, 5578, 38159, 10305, 38557]   \n",
       "2      1032  [11063, 26165, 27966, 8859, 44116, 5450, 9741,...   \n",
       "3      1143  [42719, 42097, 36759, 27966, 39275, 47209, 346...   \n",
       "4      1145  [24852, 1465, 28083, 29657, 34986, 33651, 3395...   \n",
       "\n",
       "                                            products  \n",
       "0    47766 29603 24489 27966 32578 39877 20574 39275  \n",
       "1            21137 15763 32033 1194 19505 5578 31717  \n",
       "2  11777 47626 28204 26165 28745 44116 35939 1394...  \n",
       "3  17794 24838 16521 21903 24852 26800 48559 1989...  \n",
       "4  516 36393 4697 9314 37500 12945 5782 21158 479...  "
      ]
     },
     "execution_count": 13,
     "metadata": {},
     "output_type": "execute_result"
    }
   ],
   "source": [
    "### TESTING V2 ####\n",
    "\n",
    "def eval_fun(labels, preds):\n",
    "    labels = labels\n",
    "    preds = preds.split(' ')\n",
    "    rr = (np.intersect1d(labels, preds))\n",
    "    precision = np.float(len(rr)) / len(preds)\n",
    "    recall = np.float(len(rr)) / len(labels)\n",
    "    try:\n",
    "        f1 = 2 * precision * recall / (precision + recall)\n",
    "        #print(\"p={0:.2f} r={0:.2f} f={0:.2f}\".format(precision, recall, f1))\n",
    "    except ZeroDivisionError:\n",
    "        return (precision, recall, 0.0)\n",
    "    return (precision, recall, f1)\n",
    "\n",
    "\n",
    "###########\n",
    "#test_for_f1['artikel'] = test_for_f1['artikel'].astype(str)\n",
    "cv_preds_df = pd.read_csv('my_sub_for_test.csv')\n",
    "cv_preds_df['products'] = cv_preds_df['products'].astype(str)\n",
    "test_for_f1 = pd.merge(test_for_f1, cv_preds_df, how='left', on='order_id')\n",
    "test_for_f1.head(5)"
   ]
  },
  {
   "cell_type": "code",
   "execution_count": 14,
   "metadata": {},
   "outputs": [],
   "source": [
    "# #testing v1\n",
    "# res = list()\n",
    "# for entry in cv_labels_df.itertuples():\n",
    "#     res.append(eval_fun(entry[2], entry[3]))\n",
    "\n",
    "# res = pd.DataFrame(np.array(res), columns=['precision', 'recall', 'f1'])\n",
    "# res.describe()"
   ]
  },
  {
   "cell_type": "code",
   "execution_count": 15,
   "metadata": {},
   "outputs": [
    {
     "data": {
      "text/html": [
       "<div>\n",
       "<style scoped>\n",
       "    .dataframe tbody tr th:only-of-type {\n",
       "        vertical-align: middle;\n",
       "    }\n",
       "\n",
       "    .dataframe tbody tr th {\n",
       "        vertical-align: top;\n",
       "    }\n",
       "\n",
       "    .dataframe thead th {\n",
       "        text-align: right;\n",
       "    }\n",
       "</style>\n",
       "<table border=\"1\" class=\"dataframe\">\n",
       "  <thead>\n",
       "    <tr style=\"text-align: right;\">\n",
       "      <th></th>\n",
       "      <th>precision</th>\n",
       "      <th>recall</th>\n",
       "      <th>f1</th>\n",
       "    </tr>\n",
       "  </thead>\n",
       "  <tbody>\n",
       "    <tr>\n",
       "      <th>count</th>\n",
       "      <td>13138.000000</td>\n",
       "      <td>13138.000000</td>\n",
       "      <td>13138.000000</td>\n",
       "    </tr>\n",
       "    <tr>\n",
       "      <th>mean</th>\n",
       "      <td>0.298258</td>\n",
       "      <td>0.391464</td>\n",
       "      <td>0.310281</td>\n",
       "    </tr>\n",
       "    <tr>\n",
       "      <th>std</th>\n",
       "      <td>0.226012</td>\n",
       "      <td>0.301097</td>\n",
       "      <td>0.223353</td>\n",
       "    </tr>\n",
       "    <tr>\n",
       "      <th>min</th>\n",
       "      <td>0.000000</td>\n",
       "      <td>0.000000</td>\n",
       "      <td>0.000000</td>\n",
       "    </tr>\n",
       "    <tr>\n",
       "      <th>25%</th>\n",
       "      <td>0.133333</td>\n",
       "      <td>0.142857</td>\n",
       "      <td>0.142857</td>\n",
       "    </tr>\n",
       "    <tr>\n",
       "      <th>50%</th>\n",
       "      <td>0.284161</td>\n",
       "      <td>0.350000</td>\n",
       "      <td>0.300000</td>\n",
       "    </tr>\n",
       "    <tr>\n",
       "      <th>75%</th>\n",
       "      <td>0.428571</td>\n",
       "      <td>0.600000</td>\n",
       "      <td>0.458846</td>\n",
       "    </tr>\n",
       "    <tr>\n",
       "      <th>max</th>\n",
       "      <td>1.000000</td>\n",
       "      <td>1.000000</td>\n",
       "      <td>1.000000</td>\n",
       "    </tr>\n",
       "  </tbody>\n",
       "</table>\n",
       "</div>"
      ],
      "text/plain": [
       "          precision        recall            f1\n",
       "count  13138.000000  13138.000000  13138.000000\n",
       "mean       0.298258      0.391464      0.310281\n",
       "std        0.226012      0.301097      0.223353\n",
       "min        0.000000      0.000000      0.000000\n",
       "25%        0.133333      0.142857      0.142857\n",
       "50%        0.284161      0.350000      0.300000\n",
       "75%        0.428571      0.600000      0.458846\n",
       "max        1.000000      1.000000      1.000000"
      ]
     },
     "execution_count": 15,
     "metadata": {},
     "output_type": "execute_result"
    }
   ],
   "source": [
    "## testing v2\n",
    "res = list()\n",
    "for entry in test_for_f1.itertuples():\n",
    "    res.append(eval_fun(entry[2], entry[3]))\n",
    "\n",
    "res = pd.DataFrame(np.array(res), columns=['precision', 'recall', 'f1'])\n",
    "res.describe()"
   ]
  },
  {
   "cell_type": "code",
   "execution_count": 16,
   "metadata": {},
   "outputs": [
    {
     "data": {
      "text/plain": [
       "(array([602493., 127571.,  50703.,  27929.,  16714.,  11004.,   7671.,\n",
       "          5242.,   2992.,    655.]),\n",
       " array([0.00184083, 0.09614898, 0.19045712, 0.28476526, 0.3790734 ,\n",
       "        0.47338154, 0.56768968, 0.66199783, 0.75630597, 0.85061411,\n",
       "        0.94492225]),\n",
       " <a list of 10 Patch objects>)"
      ]
     },
     "execution_count": 16,
     "metadata": {},
     "output_type": "execute_result"
    },
    {
     "data": {
      "image/png": "[encoded data removed]",
      "text/plain": [
       "<Figure size 432x288 with 1 Axes>"
      ]
     },
     "metadata": {
      "needs_background": "light"
     },
     "output_type": "display_data"
    }
   ],
   "source": [
    "plt.hist(preds)"
   ]
  }
 ],
 "metadata": {
  "kernelspec": {
   "display_name": "Python 3",
   "language": "python",
   "name": "python3"
  },
  "language_info": {
   "codemirror_mode": {
    "name": "ipython",
    "version": 3
   },
   "file_extension": ".py",
   "mimetype": "text/x-python",
   "name": "python",
   "nbconvert_exporter": "python",
   "pygments_lexer": "ipython3",
   "version": "3.7.0"
  }
 },
 "nbformat": 4,
 "nbformat_minor": 2
}
